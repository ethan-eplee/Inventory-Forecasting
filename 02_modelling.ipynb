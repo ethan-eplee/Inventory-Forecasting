{
  "cells": [
    {
      "cell_type": "markdown",
      "metadata": {
        "id": "8rG0LrLjZ3gX"
      },
      "source": [
        "### Problem statement: To accurately predict the stock levels of products, based on sales data and sensor data, on an hourly basis in order to more intelligently procure products from suppliers"
      ]
    },
    {
      "cell_type": "code",
      "execution_count": 37,
      "metadata": {
        "id": "nenrhey1aYiD"
      },
      "outputs": [],
      "source": [
        "# import libraries\n",
        "import pandas as pd\n",
        "import numpy as np\n",
        "import matplotlib.pyplot as plt\n",
        "import seaborn as sns\n",
        "\n",
        "from datetime import datetime\n",
        "\n",
        "from sklearn.ensemble import RandomForestRegressor\n",
        "from sklearn.model_selection import train_test_split\n",
        "from sklearn.metrics import mean_absolute_error, mean_squared_error\n",
        "from sklearn.preprocessing import StandardScaler"
      ]
    },
    {
      "cell_type": "markdown",
      "metadata": {
        "id": "ncPFYiD_abg4"
      },
      "source": [
        "### Data loading"
      ]
    },
    {
      "cell_type": "code",
      "execution_count": 2,
      "metadata": {
        "colab": {
          "base_uri": "https://localhost:8080/",
          "height": 250
        },
        "id": "hPJPVY2IaZdy",
        "outputId": "16a7f02a-cd42-468b-9c3b-473abb64e60e"
      },
      "outputs": [
        {
          "data": {
            "text/html": [
              "<div>\n",
              "<style scoped>\n",
              "    .dataframe tbody tr th:only-of-type {\n",
              "        vertical-align: middle;\n",
              "    }\n",
              "\n",
              "    .dataframe tbody tr th {\n",
              "        vertical-align: top;\n",
              "    }\n",
              "\n",
              "    .dataframe thead th {\n",
              "        text-align: right;\n",
              "    }\n",
              "</style>\n",
              "<table border=\"1\" class=\"dataframe\">\n",
              "  <thead>\n",
              "    <tr style=\"text-align: right;\">\n",
              "      <th></th>\n",
              "      <th>transaction_id</th>\n",
              "      <th>timestamp</th>\n",
              "      <th>product_id</th>\n",
              "      <th>category</th>\n",
              "      <th>customer_type</th>\n",
              "      <th>unit_price</th>\n",
              "      <th>quantity</th>\n",
              "      <th>total</th>\n",
              "      <th>payment_type</th>\n",
              "    </tr>\n",
              "  </thead>\n",
              "  <tbody>\n",
              "    <tr>\n",
              "      <th>0</th>\n",
              "      <td>a1c82654-c52c-45b3-8ce8-4c2a1efe63ed</td>\n",
              "      <td>2022-03-02 09:51:38</td>\n",
              "      <td>3bc6c1ea-0198-46de-9ffd-514ae3338713</td>\n",
              "      <td>fruit</td>\n",
              "      <td>gold</td>\n",
              "      <td>3.99</td>\n",
              "      <td>2</td>\n",
              "      <td>7.98</td>\n",
              "      <td>e-wallet</td>\n",
              "    </tr>\n",
              "    <tr>\n",
              "      <th>1</th>\n",
              "      <td>931ad550-09e8-4da6-beaa-8c9d17be9c60</td>\n",
              "      <td>2022-03-06 10:33:59</td>\n",
              "      <td>ad81b46c-bf38-41cf-9b54-5fe7f5eba93e</td>\n",
              "      <td>fruit</td>\n",
              "      <td>standard</td>\n",
              "      <td>3.99</td>\n",
              "      <td>1</td>\n",
              "      <td>3.99</td>\n",
              "      <td>e-wallet</td>\n",
              "    </tr>\n",
              "    <tr>\n",
              "      <th>2</th>\n",
              "      <td>ae133534-6f61-4cd6-b6b8-d1c1d8d90aea</td>\n",
              "      <td>2022-03-04 17:20:21</td>\n",
              "      <td>7c55cbd4-f306-4c04-a030-628cbe7867c1</td>\n",
              "      <td>fruit</td>\n",
              "      <td>premium</td>\n",
              "      <td>0.19</td>\n",
              "      <td>2</td>\n",
              "      <td>0.38</td>\n",
              "      <td>e-wallet</td>\n",
              "    </tr>\n",
              "    <tr>\n",
              "      <th>3</th>\n",
              "      <td>157cebd9-aaf0-475d-8a11-7c8e0f5b76e4</td>\n",
              "      <td>2022-03-02 17:23:58</td>\n",
              "      <td>80da8348-1707-403f-8be7-9e6deeccc883</td>\n",
              "      <td>fruit</td>\n",
              "      <td>gold</td>\n",
              "      <td>0.19</td>\n",
              "      <td>4</td>\n",
              "      <td>0.76</td>\n",
              "      <td>e-wallet</td>\n",
              "    </tr>\n",
              "    <tr>\n",
              "      <th>4</th>\n",
              "      <td>a81a6cd3-5e0c-44a2-826c-aea43e46c514</td>\n",
              "      <td>2022-03-05 14:32:43</td>\n",
              "      <td>7f5e86e6-f06f-45f6-bf44-27b095c9ad1d</td>\n",
              "      <td>fruit</td>\n",
              "      <td>basic</td>\n",
              "      <td>4.49</td>\n",
              "      <td>2</td>\n",
              "      <td>8.98</td>\n",
              "      <td>debit card</td>\n",
              "    </tr>\n",
              "  </tbody>\n",
              "</table>\n",
              "</div>"
            ],
            "text/plain": [
              "                         transaction_id            timestamp  \\\n",
              "0  a1c82654-c52c-45b3-8ce8-4c2a1efe63ed  2022-03-02 09:51:38   \n",
              "1  931ad550-09e8-4da6-beaa-8c9d17be9c60  2022-03-06 10:33:59   \n",
              "2  ae133534-6f61-4cd6-b6b8-d1c1d8d90aea  2022-03-04 17:20:21   \n",
              "3  157cebd9-aaf0-475d-8a11-7c8e0f5b76e4  2022-03-02 17:23:58   \n",
              "4  a81a6cd3-5e0c-44a2-826c-aea43e46c514  2022-03-05 14:32:43   \n",
              "\n",
              "                             product_id category customer_type  unit_price  \\\n",
              "0  3bc6c1ea-0198-46de-9ffd-514ae3338713    fruit          gold        3.99   \n",
              "1  ad81b46c-bf38-41cf-9b54-5fe7f5eba93e    fruit      standard        3.99   \n",
              "2  7c55cbd4-f306-4c04-a030-628cbe7867c1    fruit       premium        0.19   \n",
              "3  80da8348-1707-403f-8be7-9e6deeccc883    fruit          gold        0.19   \n",
              "4  7f5e86e6-f06f-45f6-bf44-27b095c9ad1d    fruit         basic        4.49   \n",
              "\n",
              "   quantity  total payment_type  \n",
              "0         2   7.98     e-wallet  \n",
              "1         1   3.99     e-wallet  \n",
              "2         2   0.38     e-wallet  \n",
              "3         4   0.76     e-wallet  \n",
              "4         2   8.98   debit card  "
            ]
          },
          "execution_count": 2,
          "metadata": {},
          "output_type": "execute_result"
        }
      ],
      "source": [
        "# load the 3 datasets\n",
        "path = \"./\"\n",
        "\n",
        "# load sales dataset\n",
        "sales_df = pd.read_csv(f\"{path}sales.csv\")\n",
        "sales_df.drop(columns=[\"Unnamed: 0\"], inplace=True, errors='ignore')\n",
        "sales_df.head()"
      ]
    },
    {
      "cell_type": "code",
      "execution_count": 3,
      "metadata": {
        "colab": {
          "base_uri": "https://localhost:8080/",
          "height": 206
        },
        "id": "BmrEgGsRawiS",
        "outputId": "cba7168d-c75e-4650-a479-174ad886b22a"
      },
      "outputs": [
        {
          "data": {
            "text/html": [
              "<div>\n",
              "<style scoped>\n",
              "    .dataframe tbody tr th:only-of-type {\n",
              "        vertical-align: middle;\n",
              "    }\n",
              "\n",
              "    .dataframe tbody tr th {\n",
              "        vertical-align: top;\n",
              "    }\n",
              "\n",
              "    .dataframe thead th {\n",
              "        text-align: right;\n",
              "    }\n",
              "</style>\n",
              "<table border=\"1\" class=\"dataframe\">\n",
              "  <thead>\n",
              "    <tr style=\"text-align: right;\">\n",
              "      <th></th>\n",
              "      <th>id</th>\n",
              "      <th>timestamp</th>\n",
              "      <th>product_id</th>\n",
              "      <th>estimated_stock_pct</th>\n",
              "    </tr>\n",
              "  </thead>\n",
              "  <tbody>\n",
              "    <tr>\n",
              "      <th>0</th>\n",
              "      <td>4220e505-c247-478d-9831-6b9f87a4488a</td>\n",
              "      <td>2022-03-07 12:13:02</td>\n",
              "      <td>f658605e-75f3-4fed-a655-c0903f344427</td>\n",
              "      <td>0.75</td>\n",
              "    </tr>\n",
              "    <tr>\n",
              "      <th>1</th>\n",
              "      <td>f2612b26-fc82-49ea-8940-0751fdd4d9ef</td>\n",
              "      <td>2022-03-07 16:39:46</td>\n",
              "      <td>de06083a-f5c0-451d-b2f4-9ab88b52609d</td>\n",
              "      <td>0.48</td>\n",
              "    </tr>\n",
              "    <tr>\n",
              "      <th>2</th>\n",
              "      <td>989a287f-67e6-4478-aa49-c3a35dac0e2e</td>\n",
              "      <td>2022-03-01 18:17:43</td>\n",
              "      <td>ce8f3a04-d1a4-43b1-a7c2-fa1b8e7674c8</td>\n",
              "      <td>0.58</td>\n",
              "    </tr>\n",
              "    <tr>\n",
              "      <th>3</th>\n",
              "      <td>af8e5683-d247-46ac-9909-1a77bdebefb2</td>\n",
              "      <td>2022-03-02 14:29:09</td>\n",
              "      <td>c21e3ba9-92a3-4745-92c2-6faef73223f7</td>\n",
              "      <td>0.79</td>\n",
              "    </tr>\n",
              "    <tr>\n",
              "      <th>4</th>\n",
              "      <td>08a32247-3f44-4002-85fb-c198434dd4bb</td>\n",
              "      <td>2022-03-02 13:46:18</td>\n",
              "      <td>7f478817-aa5b-44e9-9059-8045228c9eb0</td>\n",
              "      <td>0.22</td>\n",
              "    </tr>\n",
              "  </tbody>\n",
              "</table>\n",
              "</div>"
            ],
            "text/plain": [
              "                                     id            timestamp  \\\n",
              "0  4220e505-c247-478d-9831-6b9f87a4488a  2022-03-07 12:13:02   \n",
              "1  f2612b26-fc82-49ea-8940-0751fdd4d9ef  2022-03-07 16:39:46   \n",
              "2  989a287f-67e6-4478-aa49-c3a35dac0e2e  2022-03-01 18:17:43   \n",
              "3  af8e5683-d247-46ac-9909-1a77bdebefb2  2022-03-02 14:29:09   \n",
              "4  08a32247-3f44-4002-85fb-c198434dd4bb  2022-03-02 13:46:18   \n",
              "\n",
              "                             product_id  estimated_stock_pct  \n",
              "0  f658605e-75f3-4fed-a655-c0903f344427                 0.75  \n",
              "1  de06083a-f5c0-451d-b2f4-9ab88b52609d                 0.48  \n",
              "2  ce8f3a04-d1a4-43b1-a7c2-fa1b8e7674c8                 0.58  \n",
              "3  c21e3ba9-92a3-4745-92c2-6faef73223f7                 0.79  \n",
              "4  7f478817-aa5b-44e9-9059-8045228c9eb0                 0.22  "
            ]
          },
          "execution_count": 3,
          "metadata": {},
          "output_type": "execute_result"
        }
      ],
      "source": [
        "# load the sensor stock dataset\n",
        "stock_df = pd.read_csv(f\"{path}sensor_stock_levels.csv\")\n",
        "stock_df.drop(columns=[\"Unnamed: 0\"], inplace=True, errors='ignore')\n",
        "stock_df.head()"
      ]
    },
    {
      "cell_type": "code",
      "execution_count": 4,
      "metadata": {
        "colab": {
          "base_uri": "https://localhost:8080/",
          "height": 206
        },
        "id": "qDJ9PrbZa5Ro",
        "outputId": "5589a683-dacb-448a-866f-053677ba4f7c"
      },
      "outputs": [
        {
          "data": {
            "text/html": [
              "<div>\n",
              "<style scoped>\n",
              "    .dataframe tbody tr th:only-of-type {\n",
              "        vertical-align: middle;\n",
              "    }\n",
              "\n",
              "    .dataframe tbody tr th {\n",
              "        vertical-align: top;\n",
              "    }\n",
              "\n",
              "    .dataframe thead th {\n",
              "        text-align: right;\n",
              "    }\n",
              "</style>\n",
              "<table border=\"1\" class=\"dataframe\">\n",
              "  <thead>\n",
              "    <tr style=\"text-align: right;\">\n",
              "      <th></th>\n",
              "      <th>id</th>\n",
              "      <th>timestamp</th>\n",
              "      <th>temperature</th>\n",
              "    </tr>\n",
              "  </thead>\n",
              "  <tbody>\n",
              "    <tr>\n",
              "      <th>0</th>\n",
              "      <td>d1ca1ef8-0eac-42fc-af80-97106efc7b13</td>\n",
              "      <td>2022-03-07 15:55:20</td>\n",
              "      <td>2.96</td>\n",
              "    </tr>\n",
              "    <tr>\n",
              "      <th>1</th>\n",
              "      <td>4b8a66c4-0f3a-4f16-826f-8cf9397e9d18</td>\n",
              "      <td>2022-03-01 09:18:22</td>\n",
              "      <td>1.88</td>\n",
              "    </tr>\n",
              "    <tr>\n",
              "      <th>2</th>\n",
              "      <td>3d47a0c7-1e72-4512-812f-b6b5d8428cf3</td>\n",
              "      <td>2022-03-04 15:12:26</td>\n",
              "      <td>1.78</td>\n",
              "    </tr>\n",
              "    <tr>\n",
              "      <th>3</th>\n",
              "      <td>9500357b-ce15-424a-837a-7677b386f471</td>\n",
              "      <td>2022-03-02 12:30:42</td>\n",
              "      <td>2.18</td>\n",
              "    </tr>\n",
              "    <tr>\n",
              "      <th>4</th>\n",
              "      <td>c4b61fec-99c2-4c6d-8e5d-4edd8c9632fa</td>\n",
              "      <td>2022-03-05 09:09:33</td>\n",
              "      <td>1.38</td>\n",
              "    </tr>\n",
              "  </tbody>\n",
              "</table>\n",
              "</div>"
            ],
            "text/plain": [
              "                                     id            timestamp  temperature\n",
              "0  d1ca1ef8-0eac-42fc-af80-97106efc7b13  2022-03-07 15:55:20         2.96\n",
              "1  4b8a66c4-0f3a-4f16-826f-8cf9397e9d18  2022-03-01 09:18:22         1.88\n",
              "2  3d47a0c7-1e72-4512-812f-b6b5d8428cf3  2022-03-04 15:12:26         1.78\n",
              "3  9500357b-ce15-424a-837a-7677b386f471  2022-03-02 12:30:42         2.18\n",
              "4  c4b61fec-99c2-4c6d-8e5d-4edd8c9632fa  2022-03-05 09:09:33         1.38"
            ]
          },
          "execution_count": 4,
          "metadata": {},
          "output_type": "execute_result"
        }
      ],
      "source": [
        "# load the sensor temperature dataset\n",
        "temp_df = pd.read_csv(f\"{path}sensor_storage_temperature.csv\")\n",
        "temp_df.drop(columns=[\"Unnamed: 0\"], inplace=True, errors='ignore')\n",
        "temp_df.head()"
      ]
    },
    {
      "cell_type": "markdown",
      "metadata": {
        "id": "bAd1UwJYbAt4"
      },
      "source": [
        "### Data cleaning\n",
        "\n",
        "After the 3 datasets are successfully loaded, we need to ensure that the data is clean."
      ]
    },
    {
      "cell_type": "code",
      "execution_count": 5,
      "metadata": {
        "colab": {
          "base_uri": "https://localhost:8080/"
        },
        "id": "JP3aOs9sa_jA",
        "outputId": "8295a4fe-da79-40fe-e6aa-8aefdbdc1aec"
      },
      "outputs": [
        {
          "name": "stdout",
          "output_type": "stream",
          "text": [
            "<class 'pandas.core.frame.DataFrame'>\n",
            "RangeIndex: 7829 entries, 0 to 7828\n",
            "Data columns (total 9 columns):\n",
            " #   Column          Non-Null Count  Dtype  \n",
            "---  ------          --------------  -----  \n",
            " 0   transaction_id  7829 non-null   object \n",
            " 1   timestamp       7829 non-null   object \n",
            " 2   product_id      7829 non-null   object \n",
            " 3   category        7829 non-null   object \n",
            " 4   customer_type   7829 non-null   object \n",
            " 5   unit_price      7829 non-null   float64\n",
            " 6   quantity        7829 non-null   int64  \n",
            " 7   total           7829 non-null   float64\n",
            " 8   payment_type    7829 non-null   object \n",
            "dtypes: float64(2), int64(1), object(6)\n",
            "memory usage: 550.6+ KB\n"
          ]
        }
      ],
      "source": [
        "# check on sales dataset\n",
        "sales_df.info()"
      ]
    },
    {
      "cell_type": "code",
      "execution_count": 6,
      "metadata": {
        "colab": {
          "base_uri": "https://localhost:8080/"
        },
        "id": "saa9LAq4cHjf",
        "outputId": "706c741e-4fd3-4df1-8b69-8853ef804ad3"
      },
      "outputs": [
        {
          "name": "stdout",
          "output_type": "stream",
          "text": [
            "<class 'pandas.core.frame.DataFrame'>\n",
            "RangeIndex: 15000 entries, 0 to 14999\n",
            "Data columns (total 4 columns):\n",
            " #   Column               Non-Null Count  Dtype  \n",
            "---  ------               --------------  -----  \n",
            " 0   id                   15000 non-null  object \n",
            " 1   timestamp            15000 non-null  object \n",
            " 2   product_id           15000 non-null  object \n",
            " 3   estimated_stock_pct  15000 non-null  float64\n",
            "dtypes: float64(1), object(3)\n",
            "memory usage: 468.9+ KB\n"
          ]
        }
      ],
      "source": [
        "# check on stocks sensor dataset\n",
        "stock_df.info()"
      ]
    },
    {
      "cell_type": "code",
      "execution_count": 7,
      "metadata": {
        "colab": {
          "base_uri": "https://localhost:8080/"
        },
        "id": "fxXrZ5VWcHU6",
        "outputId": "c46ec012-20dd-4fcb-c916-f5fb0f550e6c"
      },
      "outputs": [
        {
          "name": "stdout",
          "output_type": "stream",
          "text": [
            "<class 'pandas.core.frame.DataFrame'>\n",
            "RangeIndex: 23890 entries, 0 to 23889\n",
            "Data columns (total 3 columns):\n",
            " #   Column       Non-Null Count  Dtype  \n",
            "---  ------       --------------  -----  \n",
            " 0   id           23890 non-null  object \n",
            " 1   timestamp    23890 non-null  object \n",
            " 2   temperature  23890 non-null  float64\n",
            "dtypes: float64(1), object(2)\n",
            "memory usage: 560.0+ KB\n"
          ]
        }
      ],
      "source": [
        "# check on temperature sensor dataset\n",
        "temp_df.info()"
      ]
    },
    {
      "cell_type": "code",
      "execution_count": 8,
      "metadata": {
        "colab": {
          "base_uri": "https://localhost:8080/"
        },
        "id": "vHncbVb5b3Pu",
        "outputId": "d2034e2c-ae34-48a9-f17e-4a12e1b8d066"
      },
      "outputs": [],
      "source": [
        "# convert timestamp to datetime\n",
        "sales_df['timestamp'] = pd.to_datetime(sales_df['timestamp'])\n",
        "stock_df['timestamp'] = pd.to_datetime(stock_df['timestamp'])\n",
        "temp_df['timestamp'] = pd.to_datetime(temp_df['timestamp'])"
      ]
    },
    {
      "cell_type": "code",
      "execution_count": 9,
      "metadata": {},
      "outputs": [],
      "source": [
        "# convert timestamp to hourly\n",
        "sales_df['timestamp'] = sales_df['timestamp'].dt.round('H')\n",
        "stock_df['timestamp'] = stock_df['timestamp'].dt.round('H')\n",
        "temp_df['timestamp'] = temp_df['timestamp'].dt.round('H')"
      ]
    },
    {
      "cell_type": "code",
      "execution_count": 10,
      "metadata": {},
      "outputs": [
        {
          "data": {
            "text/html": [
              "<div>\n",
              "<style scoped>\n",
              "    .dataframe tbody tr th:only-of-type {\n",
              "        vertical-align: middle;\n",
              "    }\n",
              "\n",
              "    .dataframe tbody tr th {\n",
              "        vertical-align: top;\n",
              "    }\n",
              "\n",
              "    .dataframe thead th {\n",
              "        text-align: right;\n",
              "    }\n",
              "</style>\n",
              "<table border=\"1\" class=\"dataframe\">\n",
              "  <thead>\n",
              "    <tr style=\"text-align: right;\">\n",
              "      <th></th>\n",
              "      <th>id</th>\n",
              "      <th>timestamp</th>\n",
              "      <th>temperature</th>\n",
              "    </tr>\n",
              "  </thead>\n",
              "  <tbody>\n",
              "    <tr>\n",
              "      <th>0</th>\n",
              "      <td>d1ca1ef8-0eac-42fc-af80-97106efc7b13</td>\n",
              "      <td>2022-03-07 16:00:00</td>\n",
              "      <td>2.96</td>\n",
              "    </tr>\n",
              "    <tr>\n",
              "      <th>1</th>\n",
              "      <td>4b8a66c4-0f3a-4f16-826f-8cf9397e9d18</td>\n",
              "      <td>2022-03-01 09:00:00</td>\n",
              "      <td>1.88</td>\n",
              "    </tr>\n",
              "    <tr>\n",
              "      <th>2</th>\n",
              "      <td>3d47a0c7-1e72-4512-812f-b6b5d8428cf3</td>\n",
              "      <td>2022-03-04 15:00:00</td>\n",
              "      <td>1.78</td>\n",
              "    </tr>\n",
              "    <tr>\n",
              "      <th>3</th>\n",
              "      <td>9500357b-ce15-424a-837a-7677b386f471</td>\n",
              "      <td>2022-03-02 13:00:00</td>\n",
              "      <td>2.18</td>\n",
              "    </tr>\n",
              "    <tr>\n",
              "      <th>4</th>\n",
              "      <td>c4b61fec-99c2-4c6d-8e5d-4edd8c9632fa</td>\n",
              "      <td>2022-03-05 09:00:00</td>\n",
              "      <td>1.38</td>\n",
              "    </tr>\n",
              "  </tbody>\n",
              "</table>\n",
              "</div>"
            ],
            "text/plain": [
              "                                     id           timestamp  temperature\n",
              "0  d1ca1ef8-0eac-42fc-af80-97106efc7b13 2022-03-07 16:00:00         2.96\n",
              "1  4b8a66c4-0f3a-4f16-826f-8cf9397e9d18 2022-03-01 09:00:00         1.88\n",
              "2  3d47a0c7-1e72-4512-812f-b6b5d8428cf3 2022-03-04 15:00:00         1.78\n",
              "3  9500357b-ce15-424a-837a-7677b386f471 2022-03-02 13:00:00         2.18\n",
              "4  c4b61fec-99c2-4c6d-8e5d-4edd8c9632fa 2022-03-05 09:00:00         1.38"
            ]
          },
          "execution_count": 10,
          "metadata": {},
          "output_type": "execute_result"
        }
      ],
      "source": [
        "# check on sales dataset\n",
        "temp_df.head()"
      ]
    },
    {
      "cell_type": "markdown",
      "metadata": {
        "id": "kVI1YDG3dD9u"
      },
      "source": [
        "### Aggregate and Merge data\n",
        "\n",
        "In order to include all of this data within a predictive model, we need to merge them together into 1 dataframe, on the only column (`timestamp`) that is common in all 3 tables.\n",
        "\n",
        "Before we can merge the data, we have to aggregate information from the respective datasets.\n",
        "- From sales df, we want to find the quantity sold per product at a particular hour\n",
        "- From stock df, we want to find the average stock level of a product at a particular hour\n",
        "- From temp df, we want to find the average temperature of the product storage facility at a particular hour (note that there is no product_id here)\n"
      ]
    },
    {
      "cell_type": "code",
      "execution_count": 11,
      "metadata": {
        "colab": {
          "base_uri": "https://localhost:8080/",
          "height": 206
        },
        "id": "SuBCwB-JfvcA",
        "outputId": "6718daec-4348-4f28-b339-37e6dd94e2af"
      },
      "outputs": [
        {
          "data": {
            "text/html": [
              "<div>\n",
              "<style scoped>\n",
              "    .dataframe tbody tr th:only-of-type {\n",
              "        vertical-align: middle;\n",
              "    }\n",
              "\n",
              "    .dataframe tbody tr th {\n",
              "        vertical-align: top;\n",
              "    }\n",
              "\n",
              "    .dataframe thead th {\n",
              "        text-align: right;\n",
              "    }\n",
              "</style>\n",
              "<table border=\"1\" class=\"dataframe\">\n",
              "  <thead>\n",
              "    <tr style=\"text-align: right;\">\n",
              "      <th></th>\n",
              "      <th>timestamp</th>\n",
              "      <th>product_id</th>\n",
              "      <th>quantity</th>\n",
              "    </tr>\n",
              "  </thead>\n",
              "  <tbody>\n",
              "    <tr>\n",
              "      <th>0</th>\n",
              "      <td>2022-03-01 09:00:00</td>\n",
              "      <td>00e120bb-89d6-4df5-bc48-a051148e3d03</td>\n",
              "      <td>3</td>\n",
              "    </tr>\n",
              "    <tr>\n",
              "      <th>1</th>\n",
              "      <td>2022-03-01 09:00:00</td>\n",
              "      <td>01f3cdd9-8e9e-4dff-9b5c-69698a0388d0</td>\n",
              "      <td>3</td>\n",
              "    </tr>\n",
              "    <tr>\n",
              "      <th>2</th>\n",
              "      <td>2022-03-01 09:00:00</td>\n",
              "      <td>03a2557a-aa12-4add-a6d4-77dc36342067</td>\n",
              "      <td>3</td>\n",
              "    </tr>\n",
              "    <tr>\n",
              "      <th>3</th>\n",
              "      <td>2022-03-01 09:00:00</td>\n",
              "      <td>049b2171-0eeb-4a3e-bf98-0c290c7821da</td>\n",
              "      <td>3</td>\n",
              "    </tr>\n",
              "    <tr>\n",
              "      <th>4</th>\n",
              "      <td>2022-03-01 09:00:00</td>\n",
              "      <td>04da844d-8dba-4470-9119-e534d52a03a0</td>\n",
              "      <td>8</td>\n",
              "    </tr>\n",
              "  </tbody>\n",
              "</table>\n",
              "</div>"
            ],
            "text/plain": [
              "            timestamp                            product_id  quantity\n",
              "0 2022-03-01 09:00:00  00e120bb-89d6-4df5-bc48-a051148e3d03         3\n",
              "1 2022-03-01 09:00:00  01f3cdd9-8e9e-4dff-9b5c-69698a0388d0         3\n",
              "2 2022-03-01 09:00:00  03a2557a-aa12-4add-a6d4-77dc36342067         3\n",
              "3 2022-03-01 09:00:00  049b2171-0eeb-4a3e-bf98-0c290c7821da         3\n",
              "4 2022-03-01 09:00:00  04da844d-8dba-4470-9119-e534d52a03a0         8"
            ]
          },
          "execution_count": 11,
          "metadata": {},
          "output_type": "execute_result"
        }
      ],
      "source": [
        "# aggregate sales quantity by timestamp and product_id\n",
        "sales_agg = sales_df.groupby(['timestamp', 'product_id']).agg({'quantity': 'sum'}).reset_index()\n",
        "sales_agg.head()"
      ]
    },
    {
      "cell_type": "code",
      "execution_count": 12,
      "metadata": {
        "colab": {
          "base_uri": "https://localhost:8080/",
          "height": 206
        },
        "id": "K8SUtuP7hIon",
        "outputId": "a573073c-8a32-47aa-bb36-a5bfc387ee42"
      },
      "outputs": [
        {
          "data": {
            "text/html": [
              "<div>\n",
              "<style scoped>\n",
              "    .dataframe tbody tr th:only-of-type {\n",
              "        vertical-align: middle;\n",
              "    }\n",
              "\n",
              "    .dataframe tbody tr th {\n",
              "        vertical-align: top;\n",
              "    }\n",
              "\n",
              "    .dataframe thead th {\n",
              "        text-align: right;\n",
              "    }\n",
              "</style>\n",
              "<table border=\"1\" class=\"dataframe\">\n",
              "  <thead>\n",
              "    <tr style=\"text-align: right;\">\n",
              "      <th></th>\n",
              "      <th>timestamp</th>\n",
              "      <th>product_id</th>\n",
              "      <th>estimated_stock_pct</th>\n",
              "    </tr>\n",
              "  </thead>\n",
              "  <tbody>\n",
              "    <tr>\n",
              "      <th>0</th>\n",
              "      <td>2022-03-01 09:00:00</td>\n",
              "      <td>00e120bb-89d6-4df5-bc48-a051148e3d03</td>\n",
              "      <td>0.89</td>\n",
              "    </tr>\n",
              "    <tr>\n",
              "      <th>1</th>\n",
              "      <td>2022-03-01 09:00:00</td>\n",
              "      <td>01f3cdd9-8e9e-4dff-9b5c-69698a0388d0</td>\n",
              "      <td>0.14</td>\n",
              "    </tr>\n",
              "    <tr>\n",
              "      <th>2</th>\n",
              "      <td>2022-03-01 09:00:00</td>\n",
              "      <td>01ff0803-ae73-4234-971d-5713c97b7f4b</td>\n",
              "      <td>0.67</td>\n",
              "    </tr>\n",
              "    <tr>\n",
              "      <th>3</th>\n",
              "      <td>2022-03-01 09:00:00</td>\n",
              "      <td>0363eb21-8c74-47e1-a216-c37e565e5ceb</td>\n",
              "      <td>0.82</td>\n",
              "    </tr>\n",
              "    <tr>\n",
              "      <th>4</th>\n",
              "      <td>2022-03-01 09:00:00</td>\n",
              "      <td>0ec3890d-f4be-48a4-9358-291b3da7f578</td>\n",
              "      <td>0.92</td>\n",
              "    </tr>\n",
              "  </tbody>\n",
              "</table>\n",
              "</div>"
            ],
            "text/plain": [
              "            timestamp                            product_id  \\\n",
              "0 2022-03-01 09:00:00  00e120bb-89d6-4df5-bc48-a051148e3d03   \n",
              "1 2022-03-01 09:00:00  01f3cdd9-8e9e-4dff-9b5c-69698a0388d0   \n",
              "2 2022-03-01 09:00:00  01ff0803-ae73-4234-971d-5713c97b7f4b   \n",
              "3 2022-03-01 09:00:00  0363eb21-8c74-47e1-a216-c37e565e5ceb   \n",
              "4 2022-03-01 09:00:00  0ec3890d-f4be-48a4-9358-291b3da7f578   \n",
              "\n",
              "   estimated_stock_pct  \n",
              "0                 0.89  \n",
              "1                 0.14  \n",
              "2                 0.67  \n",
              "3                 0.82  \n",
              "4                 0.92  "
            ]
          },
          "execution_count": 12,
          "metadata": {},
          "output_type": "execute_result"
        }
      ],
      "source": [
        "# aggregate stock level by timestamp and product_id\n",
        "stock_agg = stock_df.groupby(['timestamp', 'product_id']).agg({'estimated_stock_pct': 'mean'}).reset_index()\n",
        "stock_agg.head()"
      ]
    },
    {
      "cell_type": "code",
      "execution_count": 13,
      "metadata": {
        "colab": {
          "base_uri": "https://localhost:8080/",
          "height": 206
        },
        "id": "QLQ_DTz4hwoC",
        "outputId": "06f656ff-da5a-4b4f-8100-e007eb3bc71e"
      },
      "outputs": [
        {
          "data": {
            "text/html": [
              "<div>\n",
              "<style scoped>\n",
              "    .dataframe tbody tr th:only-of-type {\n",
              "        vertical-align: middle;\n",
              "    }\n",
              "\n",
              "    .dataframe tbody tr th {\n",
              "        vertical-align: top;\n",
              "    }\n",
              "\n",
              "    .dataframe thead th {\n",
              "        text-align: right;\n",
              "    }\n",
              "</style>\n",
              "<table border=\"1\" class=\"dataframe\">\n",
              "  <thead>\n",
              "    <tr style=\"text-align: right;\">\n",
              "      <th></th>\n",
              "      <th>timestamp</th>\n",
              "      <th>temperature</th>\n",
              "    </tr>\n",
              "  </thead>\n",
              "  <tbody>\n",
              "    <tr>\n",
              "      <th>0</th>\n",
              "      <td>2022-03-01 09:00:00</td>\n",
              "      <td>-0.192988</td>\n",
              "    </tr>\n",
              "    <tr>\n",
              "      <th>1</th>\n",
              "      <td>2022-03-01 10:00:00</td>\n",
              "      <td>1.695658</td>\n",
              "    </tr>\n",
              "    <tr>\n",
              "      <th>2</th>\n",
              "      <td>2022-03-01 11:00:00</td>\n",
              "      <td>-0.794536</td>\n",
              "    </tr>\n",
              "    <tr>\n",
              "      <th>3</th>\n",
              "      <td>2022-03-01 12:00:00</td>\n",
              "      <td>-0.026962</td>\n",
              "    </tr>\n",
              "    <tr>\n",
              "      <th>4</th>\n",
              "      <td>2022-03-01 13:00:00</td>\n",
              "      <td>-0.553366</td>\n",
              "    </tr>\n",
              "  </tbody>\n",
              "</table>\n",
              "</div>"
            ],
            "text/plain": [
              "            timestamp  temperature\n",
              "0 2022-03-01 09:00:00    -0.192988\n",
              "1 2022-03-01 10:00:00     1.695658\n",
              "2 2022-03-01 11:00:00    -0.794536\n",
              "3 2022-03-01 12:00:00    -0.026962\n",
              "4 2022-03-01 13:00:00    -0.553366"
            ]
          },
          "execution_count": 13,
          "metadata": {},
          "output_type": "execute_result"
        }
      ],
      "source": [
        "temp_agg = temp_df.groupby(['timestamp']).agg({'temperature': 'mean'}).reset_index()\n",
        "temp_agg.head()"
      ]
    },
    {
      "cell_type": "markdown",
      "metadata": {
        "id": "xnQBcw3PiIui"
      },
      "source": [
        "Next, we will merge the three dataframes that we have done up in the previous steps, using the `stock_agg` table as the main table to merge on."
      ]
    },
    {
      "cell_type": "code",
      "execution_count": 14,
      "metadata": {
        "colab": {
          "base_uri": "https://localhost:8080/",
          "height": 206
        },
        "id": "wdal46aQhxm0",
        "outputId": "e96accac-8c1b-4fca-cd99-02782eef0b7a"
      },
      "outputs": [
        {
          "data": {
            "text/html": [
              "<div>\n",
              "<style scoped>\n",
              "    .dataframe tbody tr th:only-of-type {\n",
              "        vertical-align: middle;\n",
              "    }\n",
              "\n",
              "    .dataframe tbody tr th {\n",
              "        vertical-align: top;\n",
              "    }\n",
              "\n",
              "    .dataframe thead th {\n",
              "        text-align: right;\n",
              "    }\n",
              "</style>\n",
              "<table border=\"1\" class=\"dataframe\">\n",
              "  <thead>\n",
              "    <tr style=\"text-align: right;\">\n",
              "      <th></th>\n",
              "      <th>timestamp</th>\n",
              "      <th>product_id</th>\n",
              "      <th>estimated_stock_pct</th>\n",
              "      <th>quantity</th>\n",
              "    </tr>\n",
              "  </thead>\n",
              "  <tbody>\n",
              "    <tr>\n",
              "      <th>0</th>\n",
              "      <td>2022-03-01 09:00:00</td>\n",
              "      <td>00e120bb-89d6-4df5-bc48-a051148e3d03</td>\n",
              "      <td>0.89</td>\n",
              "      <td>3.0</td>\n",
              "    </tr>\n",
              "    <tr>\n",
              "      <th>1</th>\n",
              "      <td>2022-03-01 09:00:00</td>\n",
              "      <td>01f3cdd9-8e9e-4dff-9b5c-69698a0388d0</td>\n",
              "      <td>0.14</td>\n",
              "      <td>3.0</td>\n",
              "    </tr>\n",
              "    <tr>\n",
              "      <th>2</th>\n",
              "      <td>2022-03-01 09:00:00</td>\n",
              "      <td>01ff0803-ae73-4234-971d-5713c97b7f4b</td>\n",
              "      <td>0.67</td>\n",
              "      <td>NaN</td>\n",
              "    </tr>\n",
              "    <tr>\n",
              "      <th>3</th>\n",
              "      <td>2022-03-01 09:00:00</td>\n",
              "      <td>0363eb21-8c74-47e1-a216-c37e565e5ceb</td>\n",
              "      <td>0.82</td>\n",
              "      <td>NaN</td>\n",
              "    </tr>\n",
              "    <tr>\n",
              "      <th>4</th>\n",
              "      <td>2022-03-01 09:00:00</td>\n",
              "      <td>0ec3890d-f4be-48a4-9358-291b3da7f578</td>\n",
              "      <td>0.92</td>\n",
              "      <td>NaN</td>\n",
              "    </tr>\n",
              "  </tbody>\n",
              "</table>\n",
              "</div>"
            ],
            "text/plain": [
              "            timestamp                            product_id  \\\n",
              "0 2022-03-01 09:00:00  00e120bb-89d6-4df5-bc48-a051148e3d03   \n",
              "1 2022-03-01 09:00:00  01f3cdd9-8e9e-4dff-9b5c-69698a0388d0   \n",
              "2 2022-03-01 09:00:00  01ff0803-ae73-4234-971d-5713c97b7f4b   \n",
              "3 2022-03-01 09:00:00  0363eb21-8c74-47e1-a216-c37e565e5ceb   \n",
              "4 2022-03-01 09:00:00  0ec3890d-f4be-48a4-9358-291b3da7f578   \n",
              "\n",
              "   estimated_stock_pct  quantity  \n",
              "0                 0.89       3.0  \n",
              "1                 0.14       3.0  \n",
              "2                 0.67       NaN  \n",
              "3                 0.82       NaN  \n",
              "4                 0.92       NaN  "
            ]
          },
          "execution_count": 14,
          "metadata": {},
          "output_type": "execute_result"
        }
      ],
      "source": [
        "# merge stock and sales\n",
        "merged_df = stock_agg.merge(sales_agg, on=['timestamp', 'product_id'], how='left')\n",
        "merged_df.head()"
      ]
    },
    {
      "cell_type": "code",
      "execution_count": 15,
      "metadata": {
        "colab": {
          "base_uri": "https://localhost:8080/",
          "height": 206
        },
        "id": "iMJXyKBhif5q",
        "outputId": "4696fac2-b4e8-4c34-f40f-ff08c738b561"
      },
      "outputs": [
        {
          "data": {
            "text/html": [
              "<div>\n",
              "<style scoped>\n",
              "    .dataframe tbody tr th:only-of-type {\n",
              "        vertical-align: middle;\n",
              "    }\n",
              "\n",
              "    .dataframe tbody tr th {\n",
              "        vertical-align: top;\n",
              "    }\n",
              "\n",
              "    .dataframe thead th {\n",
              "        text-align: right;\n",
              "    }\n",
              "</style>\n",
              "<table border=\"1\" class=\"dataframe\">\n",
              "  <thead>\n",
              "    <tr style=\"text-align: right;\">\n",
              "      <th></th>\n",
              "      <th>timestamp</th>\n",
              "      <th>product_id</th>\n",
              "      <th>estimated_stock_pct</th>\n",
              "      <th>quantity</th>\n",
              "      <th>temperature</th>\n",
              "    </tr>\n",
              "  </thead>\n",
              "  <tbody>\n",
              "    <tr>\n",
              "      <th>0</th>\n",
              "      <td>2022-03-01 09:00:00</td>\n",
              "      <td>00e120bb-89d6-4df5-bc48-a051148e3d03</td>\n",
              "      <td>0.89</td>\n",
              "      <td>3.0</td>\n",
              "      <td>-0.192988</td>\n",
              "    </tr>\n",
              "    <tr>\n",
              "      <th>1</th>\n",
              "      <td>2022-03-01 09:00:00</td>\n",
              "      <td>01f3cdd9-8e9e-4dff-9b5c-69698a0388d0</td>\n",
              "      <td>0.14</td>\n",
              "      <td>3.0</td>\n",
              "      <td>-0.192988</td>\n",
              "    </tr>\n",
              "    <tr>\n",
              "      <th>2</th>\n",
              "      <td>2022-03-01 09:00:00</td>\n",
              "      <td>01ff0803-ae73-4234-971d-5713c97b7f4b</td>\n",
              "      <td>0.67</td>\n",
              "      <td>NaN</td>\n",
              "      <td>-0.192988</td>\n",
              "    </tr>\n",
              "    <tr>\n",
              "      <th>3</th>\n",
              "      <td>2022-03-01 09:00:00</td>\n",
              "      <td>0363eb21-8c74-47e1-a216-c37e565e5ceb</td>\n",
              "      <td>0.82</td>\n",
              "      <td>NaN</td>\n",
              "      <td>-0.192988</td>\n",
              "    </tr>\n",
              "    <tr>\n",
              "      <th>4</th>\n",
              "      <td>2022-03-01 09:00:00</td>\n",
              "      <td>0ec3890d-f4be-48a4-9358-291b3da7f578</td>\n",
              "      <td>0.92</td>\n",
              "      <td>NaN</td>\n",
              "      <td>-0.192988</td>\n",
              "    </tr>\n",
              "  </tbody>\n",
              "</table>\n",
              "</div>"
            ],
            "text/plain": [
              "            timestamp                            product_id  \\\n",
              "0 2022-03-01 09:00:00  00e120bb-89d6-4df5-bc48-a051148e3d03   \n",
              "1 2022-03-01 09:00:00  01f3cdd9-8e9e-4dff-9b5c-69698a0388d0   \n",
              "2 2022-03-01 09:00:00  01ff0803-ae73-4234-971d-5713c97b7f4b   \n",
              "3 2022-03-01 09:00:00  0363eb21-8c74-47e1-a216-c37e565e5ceb   \n",
              "4 2022-03-01 09:00:00  0ec3890d-f4be-48a4-9358-291b3da7f578   \n",
              "\n",
              "   estimated_stock_pct  quantity  temperature  \n",
              "0                 0.89       3.0    -0.192988  \n",
              "1                 0.14       3.0    -0.192988  \n",
              "2                 0.67       NaN    -0.192988  \n",
              "3                 0.82       NaN    -0.192988  \n",
              "4                 0.92       NaN    -0.192988  "
            ]
          },
          "execution_count": 15,
          "metadata": {},
          "output_type": "execute_result"
        }
      ],
      "source": [
        "# merge temperature on previous merged dataset\n",
        "merged_df = merged_df.merge(temp_agg, on='timestamp', how='left')\n",
        "merged_df.head()"
      ]
    },
    {
      "cell_type": "code",
      "execution_count": 16,
      "metadata": {
        "colab": {
          "base_uri": "https://localhost:8080/"
        },
        "id": "aqItnN4yig-1",
        "outputId": "509e67f6-2cb6-4151-8557-e2d6e9a32439"
      },
      "outputs": [
        {
          "name": "stdout",
          "output_type": "stream",
          "text": [
            "<class 'pandas.core.frame.DataFrame'>\n",
            "Int64Index: 11025 entries, 0 to 11024\n",
            "Data columns (total 5 columns):\n",
            " #   Column               Non-Null Count  Dtype         \n",
            "---  ------               --------------  -----         \n",
            " 0   timestamp            11025 non-null  datetime64[ns]\n",
            " 1   product_id           11025 non-null  object        \n",
            " 2   estimated_stock_pct  11025 non-null  float64       \n",
            " 3   quantity             2972 non-null   float64       \n",
            " 4   temperature          11025 non-null  float64       \n",
            "dtypes: datetime64[ns](1), float64(3), object(1)\n",
            "memory usage: 516.8+ KB\n"
          ]
        }
      ],
      "source": [
        "# check on the merged dataset\n",
        "merged_df.info()"
      ]
    },
    {
      "cell_type": "code",
      "execution_count": 17,
      "metadata": {
        "colab": {
          "base_uri": "https://localhost:8080/"
        },
        "id": "uZxXCcNAjfgG",
        "outputId": "a8778d1a-5a5b-4464-c531-c4de545f6624"
      },
      "outputs": [
        {
          "name": "stdout",
          "output_type": "stream",
          "text": [
            "<class 'pandas.core.frame.DataFrame'>\n",
            "Int64Index: 11025 entries, 0 to 11024\n",
            "Data columns (total 5 columns):\n",
            " #   Column               Non-Null Count  Dtype         \n",
            "---  ------               --------------  -----         \n",
            " 0   timestamp            11025 non-null  datetime64[ns]\n",
            " 1   product_id           11025 non-null  object        \n",
            " 2   estimated_stock_pct  11025 non-null  float64       \n",
            " 3   quantity             11025 non-null  float64       \n",
            " 4   temperature          11025 non-null  float64       \n",
            "dtypes: datetime64[ns](1), float64(3), object(1)\n",
            "memory usage: 516.8+ KB\n"
          ]
        }
      ],
      "source": [
        "# fill missing values with 0\n",
        "merged_df['quantity'] = merged_df['quantity'].fillna(0)\n",
        "merged_df.info()"
      ]
    },
    {
      "cell_type": "markdown",
      "metadata": {
        "id": "YmS-GbxdkDkE"
      },
      "source": [
        "Combining additional features `category` and `unit_price` from the sales dataset to the merged dataset."
      ]
    },
    {
      "cell_type": "code",
      "execution_count": 18,
      "metadata": {
        "id": "staDsWixj-C3"
      },
      "outputs": [
        {
          "data": {
            "text/html": [
              "<div>\n",
              "<style scoped>\n",
              "    .dataframe tbody tr th:only-of-type {\n",
              "        vertical-align: middle;\n",
              "    }\n",
              "\n",
              "    .dataframe tbody tr th {\n",
              "        vertical-align: top;\n",
              "    }\n",
              "\n",
              "    .dataframe thead th {\n",
              "        text-align: right;\n",
              "    }\n",
              "</style>\n",
              "<table border=\"1\" class=\"dataframe\">\n",
              "  <thead>\n",
              "    <tr style=\"text-align: right;\">\n",
              "      <th></th>\n",
              "      <th>product_id</th>\n",
              "      <th>category</th>\n",
              "    </tr>\n",
              "  </thead>\n",
              "  <tbody>\n",
              "    <tr>\n",
              "      <th>0</th>\n",
              "      <td>3bc6c1ea-0198-46de-9ffd-514ae3338713</td>\n",
              "      <td>fruit</td>\n",
              "    </tr>\n",
              "    <tr>\n",
              "      <th>1</th>\n",
              "      <td>ad81b46c-bf38-41cf-9b54-5fe7f5eba93e</td>\n",
              "      <td>fruit</td>\n",
              "    </tr>\n",
              "    <tr>\n",
              "      <th>2</th>\n",
              "      <td>7c55cbd4-f306-4c04-a030-628cbe7867c1</td>\n",
              "      <td>fruit</td>\n",
              "    </tr>\n",
              "    <tr>\n",
              "      <th>3</th>\n",
              "      <td>80da8348-1707-403f-8be7-9e6deeccc883</td>\n",
              "      <td>fruit</td>\n",
              "    </tr>\n",
              "    <tr>\n",
              "      <th>4</th>\n",
              "      <td>7f5e86e6-f06f-45f6-bf44-27b095c9ad1d</td>\n",
              "      <td>fruit</td>\n",
              "    </tr>\n",
              "  </tbody>\n",
              "</table>\n",
              "</div>"
            ],
            "text/plain": [
              "                             product_id category\n",
              "0  3bc6c1ea-0198-46de-9ffd-514ae3338713    fruit\n",
              "1  ad81b46c-bf38-41cf-9b54-5fe7f5eba93e    fruit\n",
              "2  7c55cbd4-f306-4c04-a030-628cbe7867c1    fruit\n",
              "3  80da8348-1707-403f-8be7-9e6deeccc883    fruit\n",
              "4  7f5e86e6-f06f-45f6-bf44-27b095c9ad1d    fruit"
            ]
          },
          "execution_count": 18,
          "metadata": {},
          "output_type": "execute_result"
        }
      ],
      "source": [
        "# create a new table  of product category with product_id, category\n",
        "product_categories = sales_df[['product_id', 'category']]\n",
        "product_categories = product_categories.drop_duplicates()\n",
        "product_categories.head()"
      ]
    },
    {
      "cell_type": "code",
      "execution_count": 19,
      "metadata": {},
      "outputs": [
        {
          "data": {
            "text/html": [
              "<div>\n",
              "<style scoped>\n",
              "    .dataframe tbody tr th:only-of-type {\n",
              "        vertical-align: middle;\n",
              "    }\n",
              "\n",
              "    .dataframe tbody tr th {\n",
              "        vertical-align: top;\n",
              "    }\n",
              "\n",
              "    .dataframe thead th {\n",
              "        text-align: right;\n",
              "    }\n",
              "</style>\n",
              "<table border=\"1\" class=\"dataframe\">\n",
              "  <thead>\n",
              "    <tr style=\"text-align: right;\">\n",
              "      <th></th>\n",
              "      <th>product_id</th>\n",
              "      <th>unit_price</th>\n",
              "    </tr>\n",
              "  </thead>\n",
              "  <tbody>\n",
              "    <tr>\n",
              "      <th>0</th>\n",
              "      <td>3bc6c1ea-0198-46de-9ffd-514ae3338713</td>\n",
              "      <td>3.99</td>\n",
              "    </tr>\n",
              "    <tr>\n",
              "      <th>1</th>\n",
              "      <td>ad81b46c-bf38-41cf-9b54-5fe7f5eba93e</td>\n",
              "      <td>3.99</td>\n",
              "    </tr>\n",
              "    <tr>\n",
              "      <th>2</th>\n",
              "      <td>7c55cbd4-f306-4c04-a030-628cbe7867c1</td>\n",
              "      <td>0.19</td>\n",
              "    </tr>\n",
              "    <tr>\n",
              "      <th>3</th>\n",
              "      <td>80da8348-1707-403f-8be7-9e6deeccc883</td>\n",
              "      <td>0.19</td>\n",
              "    </tr>\n",
              "    <tr>\n",
              "      <th>4</th>\n",
              "      <td>7f5e86e6-f06f-45f6-bf44-27b095c9ad1d</td>\n",
              "      <td>4.49</td>\n",
              "    </tr>\n",
              "  </tbody>\n",
              "</table>\n",
              "</div>"
            ],
            "text/plain": [
              "                             product_id  unit_price\n",
              "0  3bc6c1ea-0198-46de-9ffd-514ae3338713        3.99\n",
              "1  ad81b46c-bf38-41cf-9b54-5fe7f5eba93e        3.99\n",
              "2  7c55cbd4-f306-4c04-a030-628cbe7867c1        0.19\n",
              "3  80da8348-1707-403f-8be7-9e6deeccc883        0.19\n",
              "4  7f5e86e6-f06f-45f6-bf44-27b095c9ad1d        4.49"
            ]
          },
          "execution_count": 19,
          "metadata": {},
          "output_type": "execute_result"
        }
      ],
      "source": [
        "# create a new table of product price with product_id, unit_price\n",
        "product_price = sales_df[['product_id', 'unit_price']]\n",
        "product_price = product_price.drop_duplicates()\n",
        "product_price.head()"
      ]
    },
    {
      "cell_type": "code",
      "execution_count": 20,
      "metadata": {
        "colab": {
          "base_uri": "https://localhost:8080/",
          "height": 206
        },
        "id": "OF3FwuLdkWZ8",
        "outputId": "d6c0f865-b34e-4ea9-c5f3-36c2092796ed"
      },
      "outputs": [
        {
          "data": {
            "text/html": [
              "<div>\n",
              "<style scoped>\n",
              "    .dataframe tbody tr th:only-of-type {\n",
              "        vertical-align: middle;\n",
              "    }\n",
              "\n",
              "    .dataframe tbody tr th {\n",
              "        vertical-align: top;\n",
              "    }\n",
              "\n",
              "    .dataframe thead th {\n",
              "        text-align: right;\n",
              "    }\n",
              "</style>\n",
              "<table border=\"1\" class=\"dataframe\">\n",
              "  <thead>\n",
              "    <tr style=\"text-align: right;\">\n",
              "      <th></th>\n",
              "      <th>timestamp</th>\n",
              "      <th>product_id</th>\n",
              "      <th>estimated_stock_pct</th>\n",
              "      <th>quantity</th>\n",
              "      <th>temperature</th>\n",
              "      <th>category</th>\n",
              "    </tr>\n",
              "  </thead>\n",
              "  <tbody>\n",
              "    <tr>\n",
              "      <th>0</th>\n",
              "      <td>2022-03-01 09:00:00</td>\n",
              "      <td>00e120bb-89d6-4df5-bc48-a051148e3d03</td>\n",
              "      <td>0.89</td>\n",
              "      <td>3.0</td>\n",
              "      <td>-0.192988</td>\n",
              "      <td>kitchen</td>\n",
              "    </tr>\n",
              "    <tr>\n",
              "      <th>1</th>\n",
              "      <td>2022-03-01 09:00:00</td>\n",
              "      <td>01f3cdd9-8e9e-4dff-9b5c-69698a0388d0</td>\n",
              "      <td>0.14</td>\n",
              "      <td>3.0</td>\n",
              "      <td>-0.192988</td>\n",
              "      <td>vegetables</td>\n",
              "    </tr>\n",
              "    <tr>\n",
              "      <th>2</th>\n",
              "      <td>2022-03-01 09:00:00</td>\n",
              "      <td>01ff0803-ae73-4234-971d-5713c97b7f4b</td>\n",
              "      <td>0.67</td>\n",
              "      <td>0.0</td>\n",
              "      <td>-0.192988</td>\n",
              "      <td>baby products</td>\n",
              "    </tr>\n",
              "    <tr>\n",
              "      <th>3</th>\n",
              "      <td>2022-03-01 09:00:00</td>\n",
              "      <td>0363eb21-8c74-47e1-a216-c37e565e5ceb</td>\n",
              "      <td>0.82</td>\n",
              "      <td>0.0</td>\n",
              "      <td>-0.192988</td>\n",
              "      <td>beverages</td>\n",
              "    </tr>\n",
              "    <tr>\n",
              "      <th>4</th>\n",
              "      <td>2022-03-01 09:00:00</td>\n",
              "      <td>0ec3890d-f4be-48a4-9358-291b3da7f578</td>\n",
              "      <td>0.92</td>\n",
              "      <td>0.0</td>\n",
              "      <td>-0.192988</td>\n",
              "      <td>spices and herbs</td>\n",
              "    </tr>\n",
              "  </tbody>\n",
              "</table>\n",
              "</div>"
            ],
            "text/plain": [
              "            timestamp                            product_id  \\\n",
              "0 2022-03-01 09:00:00  00e120bb-89d6-4df5-bc48-a051148e3d03   \n",
              "1 2022-03-01 09:00:00  01f3cdd9-8e9e-4dff-9b5c-69698a0388d0   \n",
              "2 2022-03-01 09:00:00  01ff0803-ae73-4234-971d-5713c97b7f4b   \n",
              "3 2022-03-01 09:00:00  0363eb21-8c74-47e1-a216-c37e565e5ceb   \n",
              "4 2022-03-01 09:00:00  0ec3890d-f4be-48a4-9358-291b3da7f578   \n",
              "\n",
              "   estimated_stock_pct  quantity  temperature          category  \n",
              "0                 0.89       3.0    -0.192988           kitchen  \n",
              "1                 0.14       3.0    -0.192988        vegetables  \n",
              "2                 0.67       0.0    -0.192988     baby products  \n",
              "3                 0.82       0.0    -0.192988         beverages  \n",
              "4                 0.92       0.0    -0.192988  spices and herbs  "
            ]
          },
          "execution_count": 20,
          "metadata": {},
          "output_type": "execute_result"
        }
      ],
      "source": [
        "# add product category to merged dataset\n",
        "merged_df = merged_df.merge(product_categories, on=\"product_id\", how=\"left\")\n",
        "merged_df.head()"
      ]
    },
    {
      "cell_type": "code",
      "execution_count": 21,
      "metadata": {
        "colab": {
          "base_uri": "https://localhost:8080/",
          "height": 206
        },
        "id": "hLq3yNFLk6ut",
        "outputId": "6b7d48ee-191c-47ab-b20e-c6b2aa4d880a"
      },
      "outputs": [
        {
          "data": {
            "text/html": [
              "<div>\n",
              "<style scoped>\n",
              "    .dataframe tbody tr th:only-of-type {\n",
              "        vertical-align: middle;\n",
              "    }\n",
              "\n",
              "    .dataframe tbody tr th {\n",
              "        vertical-align: top;\n",
              "    }\n",
              "\n",
              "    .dataframe thead th {\n",
              "        text-align: right;\n",
              "    }\n",
              "</style>\n",
              "<table border=\"1\" class=\"dataframe\">\n",
              "  <thead>\n",
              "    <tr style=\"text-align: right;\">\n",
              "      <th></th>\n",
              "      <th>timestamp</th>\n",
              "      <th>product_id</th>\n",
              "      <th>estimated_stock_pct</th>\n",
              "      <th>quantity</th>\n",
              "      <th>temperature</th>\n",
              "      <th>category</th>\n",
              "      <th>unit_price</th>\n",
              "    </tr>\n",
              "  </thead>\n",
              "  <tbody>\n",
              "    <tr>\n",
              "      <th>0</th>\n",
              "      <td>2022-03-01 09:00:00</td>\n",
              "      <td>00e120bb-89d6-4df5-bc48-a051148e3d03</td>\n",
              "      <td>0.89</td>\n",
              "      <td>3.0</td>\n",
              "      <td>-0.192988</td>\n",
              "      <td>kitchen</td>\n",
              "      <td>11.19</td>\n",
              "    </tr>\n",
              "    <tr>\n",
              "      <th>1</th>\n",
              "      <td>2022-03-01 09:00:00</td>\n",
              "      <td>01f3cdd9-8e9e-4dff-9b5c-69698a0388d0</td>\n",
              "      <td>0.14</td>\n",
              "      <td>3.0</td>\n",
              "      <td>-0.192988</td>\n",
              "      <td>vegetables</td>\n",
              "      <td>1.49</td>\n",
              "    </tr>\n",
              "    <tr>\n",
              "      <th>2</th>\n",
              "      <td>2022-03-01 09:00:00</td>\n",
              "      <td>01ff0803-ae73-4234-971d-5713c97b7f4b</td>\n",
              "      <td>0.67</td>\n",
              "      <td>0.0</td>\n",
              "      <td>-0.192988</td>\n",
              "      <td>baby products</td>\n",
              "      <td>14.19</td>\n",
              "    </tr>\n",
              "    <tr>\n",
              "      <th>3</th>\n",
              "      <td>2022-03-01 09:00:00</td>\n",
              "      <td>0363eb21-8c74-47e1-a216-c37e565e5ceb</td>\n",
              "      <td>0.82</td>\n",
              "      <td>0.0</td>\n",
              "      <td>-0.192988</td>\n",
              "      <td>beverages</td>\n",
              "      <td>20.19</td>\n",
              "    </tr>\n",
              "    <tr>\n",
              "      <th>4</th>\n",
              "      <td>2022-03-01 09:00:00</td>\n",
              "      <td>0ec3890d-f4be-48a4-9358-291b3da7f578</td>\n",
              "      <td>0.92</td>\n",
              "      <td>0.0</td>\n",
              "      <td>-0.192988</td>\n",
              "      <td>spices and herbs</td>\n",
              "      <td>4.99</td>\n",
              "    </tr>\n",
              "  </tbody>\n",
              "</table>\n",
              "</div>"
            ],
            "text/plain": [
              "            timestamp                            product_id  \\\n",
              "0 2022-03-01 09:00:00  00e120bb-89d6-4df5-bc48-a051148e3d03   \n",
              "1 2022-03-01 09:00:00  01f3cdd9-8e9e-4dff-9b5c-69698a0388d0   \n",
              "2 2022-03-01 09:00:00  01ff0803-ae73-4234-971d-5713c97b7f4b   \n",
              "3 2022-03-01 09:00:00  0363eb21-8c74-47e1-a216-c37e565e5ceb   \n",
              "4 2022-03-01 09:00:00  0ec3890d-f4be-48a4-9358-291b3da7f578   \n",
              "\n",
              "   estimated_stock_pct  quantity  temperature          category  unit_price  \n",
              "0                 0.89       3.0    -0.192988           kitchen       11.19  \n",
              "1                 0.14       3.0    -0.192988        vegetables        1.49  \n",
              "2                 0.67       0.0    -0.192988     baby products       14.19  \n",
              "3                 0.82       0.0    -0.192988         beverages       20.19  \n",
              "4                 0.92       0.0    -0.192988  spices and herbs        4.99  "
            ]
          },
          "execution_count": 21,
          "metadata": {},
          "output_type": "execute_result"
        }
      ],
      "source": [
        "# add product price to merged dataset\n",
        "merged_df = merged_df.merge(product_price, on=\"product_id\", how=\"left\")\n",
        "merged_df.head()"
      ]
    },
    {
      "cell_type": "code",
      "execution_count": 22,
      "metadata": {
        "colab": {
          "base_uri": "https://localhost:8080/"
        },
        "id": "XabU9Uw3lXK1",
        "outputId": "a62b0cdd-8b4c-4eeb-c965-90f9b655cc89"
      },
      "outputs": [
        {
          "name": "stdout",
          "output_type": "stream",
          "text": [
            "<class 'pandas.core.frame.DataFrame'>\n",
            "Int64Index: 11025 entries, 0 to 11024\n",
            "Data columns (total 7 columns):\n",
            " #   Column               Non-Null Count  Dtype         \n",
            "---  ------               --------------  -----         \n",
            " 0   timestamp            11025 non-null  datetime64[ns]\n",
            " 1   product_id           11025 non-null  object        \n",
            " 2   estimated_stock_pct  11025 non-null  float64       \n",
            " 3   quantity             11025 non-null  float64       \n",
            " 4   temperature          11025 non-null  float64       \n",
            " 5   category             11025 non-null  object        \n",
            " 6   unit_price           11025 non-null  float64       \n",
            "dtypes: datetime64[ns](1), float64(4), object(2)\n",
            "memory usage: 689.1+ KB\n"
          ]
        }
      ],
      "source": [
        "merged_df.info()"
      ]
    },
    {
      "cell_type": "markdown",
      "metadata": {
        "id": "63cEOb1HlRUi"
      },
      "source": [
        "### Feature engineering\n",
        "- Change the `timestamp` column into day of week, day of month and hour to get better insights\n",
        "- Transform categorical features to numeric features using get_dummies\n"
      ]
    },
    {
      "cell_type": "code",
      "execution_count": 23,
      "metadata": {
        "colab": {
          "base_uri": "https://localhost:8080/",
          "height": 530
        },
        "id": "iPoGpaJMk-eg",
        "outputId": "1b0e8f5b-9fc0-4475-f8b3-6519c873c41e"
      },
      "outputs": [
        {
          "data": {
            "text/html": [
              "<div>\n",
              "<style scoped>\n",
              "    .dataframe tbody tr th:only-of-type {\n",
              "        vertical-align: middle;\n",
              "    }\n",
              "\n",
              "    .dataframe tbody tr th {\n",
              "        vertical-align: top;\n",
              "    }\n",
              "\n",
              "    .dataframe thead th {\n",
              "        text-align: right;\n",
              "    }\n",
              "</style>\n",
              "<table border=\"1\" class=\"dataframe\">\n",
              "  <thead>\n",
              "    <tr style=\"text-align: right;\">\n",
              "      <th></th>\n",
              "      <th>product_id</th>\n",
              "      <th>estimated_stock_pct</th>\n",
              "      <th>quantity</th>\n",
              "      <th>temperature</th>\n",
              "      <th>category</th>\n",
              "      <th>unit_price</th>\n",
              "      <th>day_of_month</th>\n",
              "      <th>day_of_week</th>\n",
              "      <th>hour</th>\n",
              "    </tr>\n",
              "  </thead>\n",
              "  <tbody>\n",
              "    <tr>\n",
              "      <th>0</th>\n",
              "      <td>00e120bb-89d6-4df5-bc48-a051148e3d03</td>\n",
              "      <td>0.89</td>\n",
              "      <td>3.0</td>\n",
              "      <td>-0.192988</td>\n",
              "      <td>kitchen</td>\n",
              "      <td>11.19</td>\n",
              "      <td>1</td>\n",
              "      <td>1</td>\n",
              "      <td>9</td>\n",
              "    </tr>\n",
              "    <tr>\n",
              "      <th>1</th>\n",
              "      <td>01f3cdd9-8e9e-4dff-9b5c-69698a0388d0</td>\n",
              "      <td>0.14</td>\n",
              "      <td>3.0</td>\n",
              "      <td>-0.192988</td>\n",
              "      <td>vegetables</td>\n",
              "      <td>1.49</td>\n",
              "      <td>1</td>\n",
              "      <td>1</td>\n",
              "      <td>9</td>\n",
              "    </tr>\n",
              "    <tr>\n",
              "      <th>2</th>\n",
              "      <td>01ff0803-ae73-4234-971d-5713c97b7f4b</td>\n",
              "      <td>0.67</td>\n",
              "      <td>0.0</td>\n",
              "      <td>-0.192988</td>\n",
              "      <td>baby products</td>\n",
              "      <td>14.19</td>\n",
              "      <td>1</td>\n",
              "      <td>1</td>\n",
              "      <td>9</td>\n",
              "    </tr>\n",
              "    <tr>\n",
              "      <th>3</th>\n",
              "      <td>0363eb21-8c74-47e1-a216-c37e565e5ceb</td>\n",
              "      <td>0.82</td>\n",
              "      <td>0.0</td>\n",
              "      <td>-0.192988</td>\n",
              "      <td>beverages</td>\n",
              "      <td>20.19</td>\n",
              "      <td>1</td>\n",
              "      <td>1</td>\n",
              "      <td>9</td>\n",
              "    </tr>\n",
              "    <tr>\n",
              "      <th>4</th>\n",
              "      <td>0ec3890d-f4be-48a4-9358-291b3da7f578</td>\n",
              "      <td>0.92</td>\n",
              "      <td>0.0</td>\n",
              "      <td>-0.192988</td>\n",
              "      <td>spices and herbs</td>\n",
              "      <td>4.99</td>\n",
              "      <td>1</td>\n",
              "      <td>1</td>\n",
              "      <td>9</td>\n",
              "    </tr>\n",
              "  </tbody>\n",
              "</table>\n",
              "</div>"
            ],
            "text/plain": [
              "                             product_id  estimated_stock_pct  quantity  \\\n",
              "0  00e120bb-89d6-4df5-bc48-a051148e3d03                 0.89       3.0   \n",
              "1  01f3cdd9-8e9e-4dff-9b5c-69698a0388d0                 0.14       3.0   \n",
              "2  01ff0803-ae73-4234-971d-5713c97b7f4b                 0.67       0.0   \n",
              "3  0363eb21-8c74-47e1-a216-c37e565e5ceb                 0.82       0.0   \n",
              "4  0ec3890d-f4be-48a4-9358-291b3da7f578                 0.92       0.0   \n",
              "\n",
              "   temperature          category  unit_price  day_of_month  day_of_week  hour  \n",
              "0    -0.192988           kitchen       11.19             1            1     9  \n",
              "1    -0.192988        vegetables        1.49             1            1     9  \n",
              "2    -0.192988     baby products       14.19             1            1     9  \n",
              "3    -0.192988         beverages       20.19             1            1     9  \n",
              "4    -0.192988  spices and herbs        4.99             1            1     9  "
            ]
          },
          "execution_count": 23,
          "metadata": {},
          "output_type": "execute_result"
        }
      ],
      "source": [
        "# change timestamp into day of month, day of week, hour\n",
        "merged_df['day_of_month'] = merged_df['timestamp'].dt.day\n",
        "merged_df['day_of_week'] = merged_df['timestamp'].dt.dayofweek\n",
        "merged_df['hour'] = merged_df['timestamp'].dt.hour\n",
        "merged_df.drop(columns=['timestamp'], inplace=True)\n",
        "merged_df.head()"
      ]
    },
    {
      "cell_type": "code",
      "execution_count": 24,
      "metadata": {
        "colab": {
          "base_uri": "https://localhost:8080/",
          "height": 577
        },
        "id": "3I40oIHjl1re",
        "outputId": "3ffafc12-d7c7-4a8d-e2b7-c4eef4c65b4a"
      },
      "outputs": [
        {
          "data": {
            "text/html": [
              "<div>\n",
              "<style scoped>\n",
              "    .dataframe tbody tr th:only-of-type {\n",
              "        vertical-align: middle;\n",
              "    }\n",
              "\n",
              "    .dataframe tbody tr th {\n",
              "        vertical-align: top;\n",
              "    }\n",
              "\n",
              "    .dataframe thead th {\n",
              "        text-align: right;\n",
              "    }\n",
              "</style>\n",
              "<table border=\"1\" class=\"dataframe\">\n",
              "  <thead>\n",
              "    <tr style=\"text-align: right;\">\n",
              "      <th></th>\n",
              "      <th>product_id</th>\n",
              "      <th>estimated_stock_pct</th>\n",
              "      <th>quantity</th>\n",
              "      <th>temperature</th>\n",
              "      <th>unit_price</th>\n",
              "      <th>day_of_month</th>\n",
              "      <th>day_of_week</th>\n",
              "      <th>hour</th>\n",
              "      <th>category_baby products</th>\n",
              "      <th>category_baked goods</th>\n",
              "      <th>...</th>\n",
              "      <th>category_meat</th>\n",
              "      <th>category_medicine</th>\n",
              "      <th>category_packaged foods</th>\n",
              "      <th>category_personal care</th>\n",
              "      <th>category_pets</th>\n",
              "      <th>category_refrigerated items</th>\n",
              "      <th>category_seafood</th>\n",
              "      <th>category_snacks</th>\n",
              "      <th>category_spices and herbs</th>\n",
              "      <th>category_vegetables</th>\n",
              "    </tr>\n",
              "  </thead>\n",
              "  <tbody>\n",
              "    <tr>\n",
              "      <th>0</th>\n",
              "      <td>00e120bb-89d6-4df5-bc48-a051148e3d03</td>\n",
              "      <td>0.89</td>\n",
              "      <td>3.0</td>\n",
              "      <td>-0.192988</td>\n",
              "      <td>11.19</td>\n",
              "      <td>1</td>\n",
              "      <td>1</td>\n",
              "      <td>9</td>\n",
              "      <td>0</td>\n",
              "      <td>0</td>\n",
              "      <td>...</td>\n",
              "      <td>0</td>\n",
              "      <td>0</td>\n",
              "      <td>0</td>\n",
              "      <td>0</td>\n",
              "      <td>0</td>\n",
              "      <td>0</td>\n",
              "      <td>0</td>\n",
              "      <td>0</td>\n",
              "      <td>0</td>\n",
              "      <td>0</td>\n",
              "    </tr>\n",
              "    <tr>\n",
              "      <th>1</th>\n",
              "      <td>01f3cdd9-8e9e-4dff-9b5c-69698a0388d0</td>\n",
              "      <td>0.14</td>\n",
              "      <td>3.0</td>\n",
              "      <td>-0.192988</td>\n",
              "      <td>1.49</td>\n",
              "      <td>1</td>\n",
              "      <td>1</td>\n",
              "      <td>9</td>\n",
              "      <td>0</td>\n",
              "      <td>0</td>\n",
              "      <td>...</td>\n",
              "      <td>0</td>\n",
              "      <td>0</td>\n",
              "      <td>0</td>\n",
              "      <td>0</td>\n",
              "      <td>0</td>\n",
              "      <td>0</td>\n",
              "      <td>0</td>\n",
              "      <td>0</td>\n",
              "      <td>0</td>\n",
              "      <td>1</td>\n",
              "    </tr>\n",
              "    <tr>\n",
              "      <th>2</th>\n",
              "      <td>01ff0803-ae73-4234-971d-5713c97b7f4b</td>\n",
              "      <td>0.67</td>\n",
              "      <td>0.0</td>\n",
              "      <td>-0.192988</td>\n",
              "      <td>14.19</td>\n",
              "      <td>1</td>\n",
              "      <td>1</td>\n",
              "      <td>9</td>\n",
              "      <td>1</td>\n",
              "      <td>0</td>\n",
              "      <td>...</td>\n",
              "      <td>0</td>\n",
              "      <td>0</td>\n",
              "      <td>0</td>\n",
              "      <td>0</td>\n",
              "      <td>0</td>\n",
              "      <td>0</td>\n",
              "      <td>0</td>\n",
              "      <td>0</td>\n",
              "      <td>0</td>\n",
              "      <td>0</td>\n",
              "    </tr>\n",
              "    <tr>\n",
              "      <th>3</th>\n",
              "      <td>0363eb21-8c74-47e1-a216-c37e565e5ceb</td>\n",
              "      <td>0.82</td>\n",
              "      <td>0.0</td>\n",
              "      <td>-0.192988</td>\n",
              "      <td>20.19</td>\n",
              "      <td>1</td>\n",
              "      <td>1</td>\n",
              "      <td>9</td>\n",
              "      <td>0</td>\n",
              "      <td>0</td>\n",
              "      <td>...</td>\n",
              "      <td>0</td>\n",
              "      <td>0</td>\n",
              "      <td>0</td>\n",
              "      <td>0</td>\n",
              "      <td>0</td>\n",
              "      <td>0</td>\n",
              "      <td>0</td>\n",
              "      <td>0</td>\n",
              "      <td>0</td>\n",
              "      <td>0</td>\n",
              "    </tr>\n",
              "    <tr>\n",
              "      <th>4</th>\n",
              "      <td>0ec3890d-f4be-48a4-9358-291b3da7f578</td>\n",
              "      <td>0.92</td>\n",
              "      <td>0.0</td>\n",
              "      <td>-0.192988</td>\n",
              "      <td>4.99</td>\n",
              "      <td>1</td>\n",
              "      <td>1</td>\n",
              "      <td>9</td>\n",
              "      <td>0</td>\n",
              "      <td>0</td>\n",
              "      <td>...</td>\n",
              "      <td>0</td>\n",
              "      <td>0</td>\n",
              "      <td>0</td>\n",
              "      <td>0</td>\n",
              "      <td>0</td>\n",
              "      <td>0</td>\n",
              "      <td>0</td>\n",
              "      <td>0</td>\n",
              "      <td>1</td>\n",
              "      <td>0</td>\n",
              "    </tr>\n",
              "  </tbody>\n",
              "</table>\n",
              "<p>5 rows × 30 columns</p>\n",
              "</div>"
            ],
            "text/plain": [
              "                             product_id  estimated_stock_pct  quantity  \\\n",
              "0  00e120bb-89d6-4df5-bc48-a051148e3d03                 0.89       3.0   \n",
              "1  01f3cdd9-8e9e-4dff-9b5c-69698a0388d0                 0.14       3.0   \n",
              "2  01ff0803-ae73-4234-971d-5713c97b7f4b                 0.67       0.0   \n",
              "3  0363eb21-8c74-47e1-a216-c37e565e5ceb                 0.82       0.0   \n",
              "4  0ec3890d-f4be-48a4-9358-291b3da7f578                 0.92       0.0   \n",
              "\n",
              "   temperature  unit_price  day_of_month  day_of_week  hour  \\\n",
              "0    -0.192988       11.19             1            1     9   \n",
              "1    -0.192988        1.49             1            1     9   \n",
              "2    -0.192988       14.19             1            1     9   \n",
              "3    -0.192988       20.19             1            1     9   \n",
              "4    -0.192988        4.99             1            1     9   \n",
              "\n",
              "   category_baby products  category_baked goods  ...  category_meat  \\\n",
              "0                       0                     0  ...              0   \n",
              "1                       0                     0  ...              0   \n",
              "2                       1                     0  ...              0   \n",
              "3                       0                     0  ...              0   \n",
              "4                       0                     0  ...              0   \n",
              "\n",
              "   category_medicine  category_packaged foods  category_personal care  \\\n",
              "0                  0                        0                       0   \n",
              "1                  0                        0                       0   \n",
              "2                  0                        0                       0   \n",
              "3                  0                        0                       0   \n",
              "4                  0                        0                       0   \n",
              "\n",
              "   category_pets  category_refrigerated items  category_seafood  \\\n",
              "0              0                            0                 0   \n",
              "1              0                            0                 0   \n",
              "2              0                            0                 0   \n",
              "3              0                            0                 0   \n",
              "4              0                            0                 0   \n",
              "\n",
              "   category_snacks  category_spices and herbs  category_vegetables  \n",
              "0                0                          0                    0  \n",
              "1                0                          0                    1  \n",
              "2                0                          0                    0  \n",
              "3                0                          0                    0  \n",
              "4                0                          1                    0  \n",
              "\n",
              "[5 rows x 30 columns]"
            ]
          },
          "execution_count": 24,
          "metadata": {},
          "output_type": "execute_result"
        }
      ],
      "source": [
        "# change product category into dummy variables\n",
        "merged_df = pd.get_dummies(merged_df, columns=['category'])\n",
        "merged_df.head()"
      ]
    },
    {
      "cell_type": "code",
      "execution_count": 25,
      "metadata": {
        "colab": {
          "base_uri": "https://localhost:8080/"
        },
        "id": "Sw-2zQTzumjv",
        "outputId": "4dcc220c-9112-4de2-8bc8-41aacd1d3ad2"
      },
      "outputs": [
        {
          "name": "stdout",
          "output_type": "stream",
          "text": [
            "<class 'pandas.core.frame.DataFrame'>\n",
            "Int64Index: 11025 entries, 0 to 11024\n",
            "Data columns (total 30 columns):\n",
            " #   Column                          Non-Null Count  Dtype  \n",
            "---  ------                          --------------  -----  \n",
            " 0   product_id                      11025 non-null  object \n",
            " 1   estimated_stock_pct             11025 non-null  float64\n",
            " 2   quantity                        11025 non-null  float64\n",
            " 3   temperature                     11025 non-null  float64\n",
            " 4   unit_price                      11025 non-null  float64\n",
            " 5   day_of_month                    11025 non-null  int64  \n",
            " 6   day_of_week                     11025 non-null  int64  \n",
            " 7   hour                            11025 non-null  int64  \n",
            " 8   category_baby products          11025 non-null  uint8  \n",
            " 9   category_baked goods            11025 non-null  uint8  \n",
            " 10  category_baking                 11025 non-null  uint8  \n",
            " 11  category_beverages              11025 non-null  uint8  \n",
            " 12  category_canned foods           11025 non-null  uint8  \n",
            " 13  category_cheese                 11025 non-null  uint8  \n",
            " 14  category_cleaning products      11025 non-null  uint8  \n",
            " 15  category_condiments and sauces  11025 non-null  uint8  \n",
            " 16  category_dairy                  11025 non-null  uint8  \n",
            " 17  category_frozen                 11025 non-null  uint8  \n",
            " 18  category_fruit                  11025 non-null  uint8  \n",
            " 19  category_kitchen                11025 non-null  uint8  \n",
            " 20  category_meat                   11025 non-null  uint8  \n",
            " 21  category_medicine               11025 non-null  uint8  \n",
            " 22  category_packaged foods         11025 non-null  uint8  \n",
            " 23  category_personal care          11025 non-null  uint8  \n",
            " 24  category_pets                   11025 non-null  uint8  \n",
            " 25  category_refrigerated items     11025 non-null  uint8  \n",
            " 26  category_seafood                11025 non-null  uint8  \n",
            " 27  category_snacks                 11025 non-null  uint8  \n",
            " 28  category_spices and herbs       11025 non-null  uint8  \n",
            " 29  category_vegetables             11025 non-null  uint8  \n",
            "dtypes: float64(4), int64(3), object(1), uint8(22)\n",
            "memory usage: 1012.1+ KB\n"
          ]
        }
      ],
      "source": [
        "merged_df.info()"
      ]
    },
    {
      "cell_type": "code",
      "execution_count": 26,
      "metadata": {
        "colab": {
          "base_uri": "https://localhost:8080/",
          "height": 317
        },
        "id": "X4Fya5MktWDX",
        "outputId": "64bd0f6c-746a-42e3-c783-c11ed3e75a4a"
      },
      "outputs": [
        {
          "data": {
            "text/html": [
              "<div>\n",
              "<style scoped>\n",
              "    .dataframe tbody tr th:only-of-type {\n",
              "        vertical-align: middle;\n",
              "    }\n",
              "\n",
              "    .dataframe tbody tr th {\n",
              "        vertical-align: top;\n",
              "    }\n",
              "\n",
              "    .dataframe thead th {\n",
              "        text-align: right;\n",
              "    }\n",
              "</style>\n",
              "<table border=\"1\" class=\"dataframe\">\n",
              "  <thead>\n",
              "    <tr style=\"text-align: right;\">\n",
              "      <th></th>\n",
              "      <th>estimated_stock_pct</th>\n",
              "      <th>quantity</th>\n",
              "      <th>temperature</th>\n",
              "      <th>unit_price</th>\n",
              "      <th>day_of_month</th>\n",
              "      <th>day_of_week</th>\n",
              "      <th>hour</th>\n",
              "      <th>category_baby products</th>\n",
              "      <th>category_baked goods</th>\n",
              "      <th>category_baking</th>\n",
              "      <th>...</th>\n",
              "      <th>category_meat</th>\n",
              "      <th>category_medicine</th>\n",
              "      <th>category_packaged foods</th>\n",
              "      <th>category_personal care</th>\n",
              "      <th>category_pets</th>\n",
              "      <th>category_refrigerated items</th>\n",
              "      <th>category_seafood</th>\n",
              "      <th>category_snacks</th>\n",
              "      <th>category_spices and herbs</th>\n",
              "      <th>category_vegetables</th>\n",
              "    </tr>\n",
              "  </thead>\n",
              "  <tbody>\n",
              "    <tr>\n",
              "      <th>0</th>\n",
              "      <td>0.89</td>\n",
              "      <td>3.0</td>\n",
              "      <td>-0.192988</td>\n",
              "      <td>11.19</td>\n",
              "      <td>1</td>\n",
              "      <td>1</td>\n",
              "      <td>9</td>\n",
              "      <td>0</td>\n",
              "      <td>0</td>\n",
              "      <td>0</td>\n",
              "      <td>...</td>\n",
              "      <td>0</td>\n",
              "      <td>0</td>\n",
              "      <td>0</td>\n",
              "      <td>0</td>\n",
              "      <td>0</td>\n",
              "      <td>0</td>\n",
              "      <td>0</td>\n",
              "      <td>0</td>\n",
              "      <td>0</td>\n",
              "      <td>0</td>\n",
              "    </tr>\n",
              "    <tr>\n",
              "      <th>1</th>\n",
              "      <td>0.14</td>\n",
              "      <td>3.0</td>\n",
              "      <td>-0.192988</td>\n",
              "      <td>1.49</td>\n",
              "      <td>1</td>\n",
              "      <td>1</td>\n",
              "      <td>9</td>\n",
              "      <td>0</td>\n",
              "      <td>0</td>\n",
              "      <td>0</td>\n",
              "      <td>...</td>\n",
              "      <td>0</td>\n",
              "      <td>0</td>\n",
              "      <td>0</td>\n",
              "      <td>0</td>\n",
              "      <td>0</td>\n",
              "      <td>0</td>\n",
              "      <td>0</td>\n",
              "      <td>0</td>\n",
              "      <td>0</td>\n",
              "      <td>1</td>\n",
              "    </tr>\n",
              "    <tr>\n",
              "      <th>2</th>\n",
              "      <td>0.67</td>\n",
              "      <td>0.0</td>\n",
              "      <td>-0.192988</td>\n",
              "      <td>14.19</td>\n",
              "      <td>1</td>\n",
              "      <td>1</td>\n",
              "      <td>9</td>\n",
              "      <td>1</td>\n",
              "      <td>0</td>\n",
              "      <td>0</td>\n",
              "      <td>...</td>\n",
              "      <td>0</td>\n",
              "      <td>0</td>\n",
              "      <td>0</td>\n",
              "      <td>0</td>\n",
              "      <td>0</td>\n",
              "      <td>0</td>\n",
              "      <td>0</td>\n",
              "      <td>0</td>\n",
              "      <td>0</td>\n",
              "      <td>0</td>\n",
              "    </tr>\n",
              "    <tr>\n",
              "      <th>3</th>\n",
              "      <td>0.82</td>\n",
              "      <td>0.0</td>\n",
              "      <td>-0.192988</td>\n",
              "      <td>20.19</td>\n",
              "      <td>1</td>\n",
              "      <td>1</td>\n",
              "      <td>9</td>\n",
              "      <td>0</td>\n",
              "      <td>0</td>\n",
              "      <td>0</td>\n",
              "      <td>...</td>\n",
              "      <td>0</td>\n",
              "      <td>0</td>\n",
              "      <td>0</td>\n",
              "      <td>0</td>\n",
              "      <td>0</td>\n",
              "      <td>0</td>\n",
              "      <td>0</td>\n",
              "      <td>0</td>\n",
              "      <td>0</td>\n",
              "      <td>0</td>\n",
              "    </tr>\n",
              "    <tr>\n",
              "      <th>4</th>\n",
              "      <td>0.92</td>\n",
              "      <td>0.0</td>\n",
              "      <td>-0.192988</td>\n",
              "      <td>4.99</td>\n",
              "      <td>1</td>\n",
              "      <td>1</td>\n",
              "      <td>9</td>\n",
              "      <td>0</td>\n",
              "      <td>0</td>\n",
              "      <td>0</td>\n",
              "      <td>...</td>\n",
              "      <td>0</td>\n",
              "      <td>0</td>\n",
              "      <td>0</td>\n",
              "      <td>0</td>\n",
              "      <td>0</td>\n",
              "      <td>0</td>\n",
              "      <td>0</td>\n",
              "      <td>0</td>\n",
              "      <td>1</td>\n",
              "      <td>0</td>\n",
              "    </tr>\n",
              "  </tbody>\n",
              "</table>\n",
              "<p>5 rows × 29 columns</p>\n",
              "</div>"
            ],
            "text/plain": [
              "   estimated_stock_pct  quantity  temperature  unit_price  day_of_month  \\\n",
              "0                 0.89       3.0    -0.192988       11.19             1   \n",
              "1                 0.14       3.0    -0.192988        1.49             1   \n",
              "2                 0.67       0.0    -0.192988       14.19             1   \n",
              "3                 0.82       0.0    -0.192988       20.19             1   \n",
              "4                 0.92       0.0    -0.192988        4.99             1   \n",
              "\n",
              "   day_of_week  hour  category_baby products  category_baked goods  \\\n",
              "0            1     9                       0                     0   \n",
              "1            1     9                       0                     0   \n",
              "2            1     9                       1                     0   \n",
              "3            1     9                       0                     0   \n",
              "4            1     9                       0                     0   \n",
              "\n",
              "   category_baking  ...  category_meat  category_medicine  \\\n",
              "0                0  ...              0                  0   \n",
              "1                0  ...              0                  0   \n",
              "2                0  ...              0                  0   \n",
              "3                0  ...              0                  0   \n",
              "4                0  ...              0                  0   \n",
              "\n",
              "   category_packaged foods  category_personal care  category_pets  \\\n",
              "0                        0                       0              0   \n",
              "1                        0                       0              0   \n",
              "2                        0                       0              0   \n",
              "3                        0                       0              0   \n",
              "4                        0                       0              0   \n",
              "\n",
              "   category_refrigerated items  category_seafood  category_snacks  \\\n",
              "0                            0                 0                0   \n",
              "1                            0                 0                0   \n",
              "2                            0                 0                0   \n",
              "3                            0                 0                0   \n",
              "4                            0                 0                0   \n",
              "\n",
              "   category_spices and herbs  category_vegetables  \n",
              "0                          0                    0  \n",
              "1                          0                    1  \n",
              "2                          0                    0  \n",
              "3                          0                    0  \n",
              "4                          1                    0  \n",
              "\n",
              "[5 rows x 29 columns]"
            ]
          },
          "execution_count": 26,
          "metadata": {},
          "output_type": "execute_result"
        }
      ],
      "source": [
        "# drop product_id since it does not have any predictive power\n",
        "merged_df.drop(columns=['product_id'], inplace=True)\n",
        "merged_df.head()"
      ]
    },
    {
      "cell_type": "markdown",
      "metadata": {
        "id": "0XjLcgGNvF4M"
      },
      "source": [
        "### Modelling\n",
        "\n",
        "- Use `estimated_stock_pct` as the target variable (we want to predict the stock levels of products on an hourly basis)\n",
        "- Use cross-validation and `K-fold` to train the model on random samples of the data"
      ]
    },
    {
      "cell_type": "code",
      "execution_count": 31,
      "metadata": {
        "colab": {
          "base_uri": "https://localhost:8080/"
        },
        "id": "JTQxfORCtcyV",
        "outputId": "a827c23f-7eae-40e3-daf4-ed46e8c8dc6c"
      },
      "outputs": [
        {
          "name": "stdout",
          "output_type": "stream",
          "text": [
            "(11025, 28)\n",
            "(11025,)\n"
          ]
        }
      ],
      "source": [
        "# Split the data into X and y\n",
        "X = merged_df.drop(columns=['estimated_stock_pct'])\n",
        "y = merged_df['estimated_stock_pct']\n",
        "print(X.shape)\n",
        "print(y.shape)"
      ]
    },
    {
      "cell_type": "code",
      "execution_count": 40,
      "metadata": {},
      "outputs": [
        {
          "data": {
            "text/plain": [
              "array([[ 1.24737247,  0.02257437,  0.41375972, ..., -0.22804345,\n",
              "        -0.21451149, -0.21218788],\n",
              "       [ 1.24737247,  0.02257437, -1.38425809, ..., -0.22804345,\n",
              "        -0.21451149,  4.71280451],\n",
              "       [-0.49401046,  0.02257437,  0.9698477 , ..., -0.22804345,\n",
              "        -0.21451149, -0.21218788],\n",
              "       ...,\n",
              "       [-0.49401046,  1.55037742, -0.73548877, ..., -0.22804345,\n",
              "        -0.21451149, -0.21218788],\n",
              "       [-0.49401046,  1.55037742,  2.04495114, ..., -0.22804345,\n",
              "        -0.21451149, -0.21218788],\n",
              "       [-0.49401046,  1.55037742, -0.69841624, ..., -0.22804345,\n",
              "        -0.21451149, -0.21218788]])"
            ]
          },
          "execution_count": 40,
          "metadata": {},
          "output_type": "execute_result"
        }
      ],
      "source": [
        "# Scale the data\n",
        "scaler = StandardScaler()\n",
        "X_scaled = scaler.fit_transform(X)\n",
        "X_scaled"
      ]
    },
    {
      "cell_type": "code",
      "execution_count": 41,
      "metadata": {
        "id": "BCerzdmpwicK"
      },
      "outputs": [],
      "source": [
        "# Define k and training test size\n",
        "K = 10\n",
        "train_size = 0.75"
      ]
    },
    {
      "cell_type": "markdown",
      "metadata": {
        "id": "kF1suKhDxTqE"
      },
      "source": [
        "Try using a `RandomForestRegressor` model, which is an instance of a Random Forest. These are powerful tree based ensemble algorithms and are particularly good because their results are very interpretable."
      ]
    },
    {
      "cell_type": "code",
      "execution_count": 50,
      "metadata": {},
      "outputs": [
        {
          "name": "stdout",
          "output_type": "stream",
          "text": [
            "Training MAE: 0.20389999999999997\n",
            "Training MSE: 0.05899999999999998\n",
            "Test MAE: 0.22200000000000003\n",
            "Test MSE: 0.06899999999999999\n"
          ]
        }
      ],
      "source": [
        "# Perform K-fold cross validation\n",
        "train_mae = []\n",
        "train_mse = []\n",
        "test_mae = []\n",
        "test_mse = []\n",
        "\n",
        "for k in range(K):\n",
        "    # Split the data into training and test set\n",
        "    X_train, X_test, y_train, y_test = train_test_split(X, y, train_size=train_size, random_state=42)\n",
        "    \n",
        "    # Define the model\n",
        "    model = RandomForestRegressor(n_estimators=100, max_depth=10, random_state=k)\n",
        "    \n",
        "    # Fit the model\n",
        "    model.fit(X_train, y_train)\n",
        "    \n",
        "    # Predict the test set\n",
        "    y_pred = model.predict(X_test)\n",
        "\n",
        "    # Find the training error\n",
        "    train_mae.append(round(mean_absolute_error(y_train, model.predict(X_train)),3))\n",
        "    train_mse.append(round(mean_squared_error(y_train, model.predict(X_train)),3))\n",
        "    \n",
        "    # Find the test error\n",
        "    test_mae.append(round(mean_absolute_error(y_test, y_pred),3))\n",
        "    test_mse.append(round(mean_squared_error(y_test, y_pred),3))\n",
        "\n",
        "# Evaluate the model\n",
        "print(f\"Training MAE: {np.mean(train_mae)}\")\n",
        "print(f\"Training MSE: {np.mean(train_mse)}\")\n",
        "\n",
        "print(f\"Test MAE: {np.mean(test_mae)}\")\n",
        "print(f\"Test MSE: {np.mean(test_mse)}\")"
      ]
    },
    {
      "cell_type": "code",
      "execution_count": 52,
      "metadata": {},
      "outputs": [
        {
          "data": {
            "text/html": [
              "<div>\n",
              "<style scoped>\n",
              "    .dataframe tbody tr th:only-of-type {\n",
              "        vertical-align: middle;\n",
              "    }\n",
              "\n",
              "    .dataframe tbody tr th {\n",
              "        vertical-align: top;\n",
              "    }\n",
              "\n",
              "    .dataframe thead th {\n",
              "        text-align: right;\n",
              "    }\n",
              "</style>\n",
              "<table border=\"1\" class=\"dataframe\">\n",
              "  <thead>\n",
              "    <tr style=\"text-align: right;\">\n",
              "      <th></th>\n",
              "      <th>feature</th>\n",
              "      <th>importance</th>\n",
              "    </tr>\n",
              "  </thead>\n",
              "  <tbody>\n",
              "    <tr>\n",
              "      <th>2</th>\n",
              "      <td>unit_price</td>\n",
              "      <td>0.266942</td>\n",
              "    </tr>\n",
              "    <tr>\n",
              "      <th>1</th>\n",
              "      <td>temperature</td>\n",
              "      <td>0.203658</td>\n",
              "    </tr>\n",
              "    <tr>\n",
              "      <th>5</th>\n",
              "      <td>hour</td>\n",
              "      <td>0.123844</td>\n",
              "    </tr>\n",
              "    <tr>\n",
              "      <th>0</th>\n",
              "      <td>quantity</td>\n",
              "      <td>0.109146</td>\n",
              "    </tr>\n",
              "    <tr>\n",
              "      <th>3</th>\n",
              "      <td>day_of_month</td>\n",
              "      <td>0.060384</td>\n",
              "    </tr>\n",
              "    <tr>\n",
              "      <th>4</th>\n",
              "      <td>day_of_week</td>\n",
              "      <td>0.055433</td>\n",
              "    </tr>\n",
              "    <tr>\n",
              "      <th>18</th>\n",
              "      <td>category_meat</td>\n",
              "      <td>0.013977</td>\n",
              "    </tr>\n",
              "    <tr>\n",
              "      <th>9</th>\n",
              "      <td>category_beverages</td>\n",
              "      <td>0.011181</td>\n",
              "    </tr>\n",
              "    <tr>\n",
              "      <th>25</th>\n",
              "      <td>category_snacks</td>\n",
              "      <td>0.009422</td>\n",
              "    </tr>\n",
              "    <tr>\n",
              "      <th>15</th>\n",
              "      <td>category_frozen</td>\n",
              "      <td>0.009308</td>\n",
              "    </tr>\n",
              "  </tbody>\n",
              "</table>\n",
              "</div>"
            ],
            "text/plain": [
              "               feature  importance\n",
              "2           unit_price    0.266942\n",
              "1          temperature    0.203658\n",
              "5                 hour    0.123844\n",
              "0             quantity    0.109146\n",
              "3         day_of_month    0.060384\n",
              "4          day_of_week    0.055433\n",
              "18       category_meat    0.013977\n",
              "9   category_beverages    0.011181\n",
              "25     category_snacks    0.009422\n",
              "15     category_frozen    0.009308"
            ]
          },
          "execution_count": 52,
          "metadata": {},
          "output_type": "execute_result"
        }
      ],
      "source": [
        "# feature importance\n",
        "feature_importance = pd.DataFrame({'feature': X.columns, 'importance': model.feature_importances_})\n",
        "feature_importance.sort_values(by='importance', ascending=False, inplace=True)\n",
        "feature_importance.head(10)"
      ]
    },
    {
      "cell_type": "code",
      "execution_count": 53,
      "metadata": {},
      "outputs": [
        {
          "data": {
            "image/png": "[encoded data removed]",
            "text/plain": [
              "<Figure size 1000x500 with 1 Axes>"
            ]
          },
          "metadata": {},
          "output_type": "display_data"
        }
      ],
      "source": [
        "# plot feature importance\n",
        "plt.figure(figsize=(10, 5))\n",
        "sns.barplot(x='importance', y='feature', data=feature_importance.head(10))\n",
        "plt.title('Feature Importance')\n",
        "plt.show()"
      ]
    },
    {
      "cell_type": "markdown",
      "metadata": {
        "id": "T0g01eu12uI4"
      },
      "source": [
        "This feature importance visualisation tells us:\n",
        "\n",
        "- The product categories were not that important\n",
        "- The unit price and temperature were important in predicting stock\n",
        "- The hour of day was also important for predicting stock"
      ]
    }
  ],
  "metadata": {
    "colab": {
      "collapsed_sections": [],
      "name": "modeling_walkthrough.ipynb",
      "provenance": []
    },
    "kernelspec": {
      "display_name": "Python 3.10.8 64-bit",
      "language": "python",
      "name": "python3"
    },
    "language_info": {
      "codemirror_mode": {
        "name": "ipython",
        "version": 3
      },
      "file_extension": ".py",
      "mimetype": "text/x-python",
      "name": "python",
      "nbconvert_exporter": "python",
      "pygments_lexer": "ipython3",
      "version": "3.10.8"
    },
    "vscode": {
      "interpreter": {
        "hash": "0721891577121a26bc609e3c84b6fa5c274347b94308e9817e17c14cc6b75c1c"
      }
    }
  },
  "nbformat": 4,
  "nbformat_minor": 0
}
